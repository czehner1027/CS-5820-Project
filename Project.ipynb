{
 "cells": [
  {
   "cell_type": "markdown",
   "metadata": {},
   "source": [
    "# Notebook For Our Model"
   ]
  },
  {
   "cell_type": "markdown",
   "metadata": {},
   "source": [
    "## Imports"
   ]
  },
  {
   "cell_type": "code",
   "execution_count": 1,
   "metadata": {},
   "outputs": [],
   "source": [
    "import numpy as np\n",
    "import math\n",
    "import torch\n",
    "from torch.utils.data import Dataset, DataLoader, ConcatDataset\n",
    "from torchvision.io import read_image, ImageReadMode\n",
    "from torchvision.transforms import ToTensor\n",
    "import glob\n",
    "import matplotlib.pyplot as plot\n",
    "from sklearn.metrics import confusion_matrix, accuracy_score\n",
    "import cv2\n",
    "import shutil\n",
    "import csv\n",
    "import torch.nn as nn\n",
    "import torch.nn.functional as F\n",
    "from sklearn.model_selection import train_test_split"
   ]
  },
  {
   "cell_type": "markdown",
   "metadata": {},
   "source": [
    "## Database"
   ]
  },
  {
   "cell_type": "code",
   "execution_count": 12,
   "metadata": {},
   "outputs": [],
   "source": [
    "class XRAY(Dataset):\n",
    "    def __init__(self, metadata, transform=None, target_transform=None):\n",
    "        self.mode = 'Train'\n",
    "\n",
    "        self.train_indexes = []\n",
    "        self.test_indexes = []\n",
    "\n",
    "        self.meta = metadata\n",
    "        self.transform = transform\n",
    "        self.target_transform = target_transform\n",
    "\n",
    "        self.train_val_split()\n",
    "\n",
    "    def train_val_split(self, val_size = 0.2):\n",
    "        all_indexes = [i for i in range(len(self.meta))]\n",
    "        self.train_indexes, self.test_indexes = train_test_split(all_indexes, test_size=val_size, random_state=42)\n",
    "\n",
    "    def test(self):\n",
    "        self.mode = 'Test'\n",
    "\n",
    "    def train(self):\n",
    "        self.mode = 'Train'\n",
    "\n",
    "    def __len__(self):\n",
    "        if self.mode == 'Train':\n",
    "            return len(self.train_indexes)\n",
    "        else:\n",
    "            return len(self.test_indexes)\n",
    "    \n",
    "    def __getitem__(self, index):\n",
    "        if self.mode == 'Train':\n",
    "            index = self.train_indexes[index]\n",
    "        else:\n",
    "            index = self.test_indexes[index]\n",
    "\n",
    "        img_path = self.meta[index][0]\n",
    "        image = read_image(img_path, mode=ImageReadMode.GRAY).numpy()\n",
    "        image = image.astype(np.float32)\n",
    "        label = self.meta[index][1]\n",
    "        if self.transform:\n",
    "            image = self.transform(image)\n",
    "        if self.target_transform:\n",
    "            label = self.target_transform(label)\n",
    "\n",
    "        return image, label\n"
   ]
  },
  {
   "cell_type": "markdown",
   "metadata": {},
   "source": [
    "### Read Meta Data from CSV File and Create Dataset"
   ]
  },
  {
   "cell_type": "code",
   "execution_count": 18,
   "metadata": {},
   "outputs": [
    {
     "data": {
      "text/plain": [
       "112120"
      ]
     },
     "execution_count": 18,
     "metadata": {},
     "output_type": "execute_result"
    }
   ],
   "source": [
    "metadataPath = \"./MetaData.csv\"\n",
    "metaData = []\n",
    "\n",
    "with open(rf\"{metadataPath}\") as metadataFile:\n",
    "    csv_reader = csv.reader(metadataFile)\n",
    "\n",
    "    for row in csv_reader:\n",
    "        if (row[1] == \"Healthy\"):\n",
    "            metaData.append([row[0], 0])\n",
    "        else:\n",
    "            metaData.append([row[0], 1])\n",
    "\n",
    "\n",
    "xrays = XRAY(metaData)"
   ]
  },
  {
   "cell_type": "code",
   "execution_count": 122,
   "metadata": {},
   "outputs": [],
   "source": [
    "class Model(nn.Module):\n",
    "    def __init__(self):\n",
    "        super(Model, self).__init__()\n",
    "        self.cnn_model = nn.Sequential(\n",
    "            nn.Conv2d(in_channels=1, out_channels = 6, kernel_size=5),\n",
    "            nn.Tanh(),\n",
    "            nn.AvgPool2d(kernel_size=2, stride=5),\n",
    "            nn.Conv2d(in_channels=6, out_channels=16, kernel_size=5),\n",
    "            nn.Tanh(),\n",
    "            nn.AvgPool2d(kernel_size=2, stride=5),\n",
    "            nn.Conv2d(in_channels=16, out_channels=30, kernel_size=5),\n",
    "            nn.Tanh(),\n",
    "            nn.AvgPool2d(kernel_size=2, stride=5)\n",
    "        )\n",
    "\n",
    "        self.fc_model = nn.Sequential(\n",
    "            nn.Linear(in_features=1470, out_features=500),\n",
    "            nn.Tanh(),\n",
    "            nn.Linear(in_features=500, out_features=100),\n",
    "            nn.Tanh(),\n",
    "            nn.Linear(in_features=100, out_features=1)\n",
    "        )\n",
    "    def forward(self, x):\n",
    "        x = self.cnn_model(x)\n",
    "        x = x.view(x.size(0), -1)\n",
    "        x = self.fc_model(x)\n",
    "        x = F.sigmoid(x)\n",
    "\n",
    "        return x\n"
   ]
  },
  {
   "cell_type": "code",
   "execution_count": 123,
   "metadata": {},
   "outputs": [],
   "source": [
    "device = torch.device('cuda:0')\n",
    "model = Model().to(device)"
   ]
  },
  {
   "cell_type": "code",
   "execution_count": 124,
   "metadata": {},
   "outputs": [],
   "source": [
    "dataloader = DataLoader(xrays, batch_size=32, shuffle=False)"
   ]
  },
  {
   "cell_type": "code",
   "execution_count": 127,
   "metadata": {},
   "outputs": [],
   "source": [
    "model.eval()\n",
    "outputs = []\n",
    "y_true = []\n",
    "\n",
    "maxBatches = 50\n",
    "currentBatch = 0\n",
    "\n",
    "with torch.no_grad():\n",
    "    for D in dataloader:\n",
    "        if (currentBatch > maxBatches):\n",
    "            break\n",
    "        image = D[0].to(device)\n",
    "        label = D[1].to(device)\n",
    "        \n",
    "        y_hat = model(image)\n",
    "\n",
    "        outputs.append(y_hat.cpu().detach().numpy())\n",
    "        y_true.append(label.cpu().detach().numpy())\n",
    "        currentBatch += 1"
   ]
  }
 ],
 "metadata": {
  "kernelspec": {
   "display_name": ".venv",
   "language": "python",
   "name": "python3"
  },
  "language_info": {
   "codemirror_mode": {
    "name": "ipython",
    "version": 3
   },
   "file_extension": ".py",
   "mimetype": "text/x-python",
   "name": "python",
   "nbconvert_exporter": "python",
   "pygments_lexer": "ipython3",
   "version": "3.11.9"
  }
 },
 "nbformat": 4,
 "nbformat_minor": 2
}
