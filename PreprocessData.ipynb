{
 "cells": [
  {
   "cell_type": "markdown",
   "metadata": {},
   "source": [
    "# Jupyter Notebook for Preprocessing Dataset"
   ]
  },
  {
   "cell_type": "markdown",
   "metadata": {},
   "source": [
    "## Import Packages"
   ]
  },
  {
   "cell_type": "code",
   "execution_count": 3,
   "metadata": {},
   "outputs": [],
   "source": [
    "import os\n",
    "import csv"
   ]
  },
  {
   "cell_type": "markdown",
   "metadata": {},
   "source": [
    "## Create an actually useful metadata file"
   ]
  },
  {
   "cell_type": "code",
   "execution_count": null,
   "metadata": {},
   "outputs": [],
   "source": [
    "original = \"./Full Data Set\"\n",
    "metadataPath = original + \"/Data_Entry_2017.csv\"\n",
    "\n",
    "output = open(\"./MetaData.txt\", \"w\")\n",
    "\n",
    "with open(rf\"{metadataPath}\") as metadataFile:\n",
    "    # input the headings and do nothing with them\n",
    "    heading = next(metadataFile)\n",
    "\n",
    "    # open a csv reader object\n",
    "    csv_reader = csv.reader(metadataFile)\n",
    "\n",
    "    # Get the first image sub directory\n",
    "    subDirectoryNumber = 1\n",
    "    imageDirectory = original + f\"/images_00{subDirectoryNumber}/images/\"\n",
    "\n",
    "    i = 0\n",
    "\n",
    "    # Loop through each row of the csv file\n",
    "    for row in csv_reader:\n",
    "        imageName = row[0]\n",
    "        classifications = row[1]\n",
    "        imagePath = imageDirectory + imageName\n",
    "\n",
    "        if not os.path.exists(imagePath):\n",
    "            subDirectoryNumber += 1\n",
    "            imageDirectory = original + f\"/images_0{subDirectoryNumber//10}{subDirectoryNumber%10}/images/\"\n",
    "            imagePath = imageDirectory + imageName\n",
    "\n",
    "        if classifications == \"No Finding\":\n",
    "            output.write(f\"{imagePath},Healthy\\n\")\n",
    "        else:\n",
    "            output.write(f\"{imagePath},Disease\\n\")\n",
    "output.close()"
   ]
  }
 ],
 "metadata": {
  "kernelspec": {
   "display_name": ".venv",
   "language": "python",
   "name": "python3"
  },
  "language_info": {
   "codemirror_mode": {
    "name": "ipython",
    "version": 3
   },
   "file_extension": ".py",
   "mimetype": "text/x-python",
   "name": "python",
   "nbconvert_exporter": "python",
   "pygments_lexer": "ipython3",
   "version": "3.11.9"
  }
 },
 "nbformat": 4,
 "nbformat_minor": 2
}
